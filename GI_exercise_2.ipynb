{
  "nbformat": 4,
  "nbformat_minor": 0,
  "metadata": {
    "colab": {
      "name": "GI_exercise_2.ipynb",
      "provenance": []
    },
    "kernelspec": {
      "name": "python3",
      "display_name": "Python 3"
    },
    "language_info": {
      "name": "python"
    }
  },
  "cells": [
    {
      "cell_type": "markdown",
      "metadata": {
        "id": "VnfoGe2iOrBn"
      },
      "source": [
        "Exercise 2: Pysam - CGC Interactive analysis"
      ]
    },
    {
      "cell_type": "code",
      "metadata": {
        "colab": {
          "base_uri": "https://localhost:8080/"
        },
        "id": "v21st2NmICD9",
        "outputId": "f59d38bb-e6f1-4b67-ba65-04e39dd2cbac"
      },
      "source": [
        "!pip install pysam"
      ],
      "execution_count": 1,
      "outputs": [
        {
          "output_type": "stream",
          "text": [
            "Collecting pysam\n",
            "\u001b[?25l  Downloading https://files.pythonhosted.org/packages/20/85/335857b9888f6d9a13b03a8f21b0a6228b180c361631d9d70e7be3e22163/pysam-0.16.0.1-cp37-cp37m-manylinux1_x86_64.whl (9.9MB)\n",
            "\u001b[K     |████████████████████████████████| 9.9MB 3.5MB/s \n",
            "\u001b[?25hInstalling collected packages: pysam\n",
            "Successfully installed pysam-0.16.0.1\n"
          ],
          "name": "stdout"
        }
      ]
    },
    {
      "cell_type": "code",
      "metadata": {
        "id": "RhvpWjZUN2KP"
      },
      "source": [
        "import pysam"
      ],
      "execution_count": 4,
      "outputs": []
    },
    {
      "cell_type": "code",
      "metadata": {
        "colab": {
          "base_uri": "https://localhost:8080/"
        },
        "id": "i3zuDploNRJ-",
        "outputId": "552390a0-8749-4bb5-9030-d587b8b7e3d6"
      },
      "source": [
        "alnfile = pysam.AlignmentFile('/content/sample_data/merged-tumor.bam', 'rb')\n",
        "for read in alnfile:\n",
        "  print(read)\n",
        "  break"
      ],
      "execution_count": 6,
      "outputs": [
        {
          "output_type": "stream",
          "text": [
            "C0HVYACXX120402:7:1207:5722:57044\t1187\t20\t9483248\t27\t76M\t20\t9483381\t76\tTTTTCAAACAGTATCTATGCCTGCCAAATGTGAACATATAAAAAAAAACCAGAATGTGCCATTCTGATTTAAACTG\tarray('B', [28, 28, 27, 29, 31, 30, 31, 31, 29, 31, 35, 30, 29, 31, 34, 30, 29, 23, 41, 32, 20, 30, 29, 34, 34, 29, 30, 31, 30, 30, 30, 33, 33, 26, 39, 12, 25, 19, 32, 30, 35, 28, 35, 33, 23, 33, 35, 36, 30, 38, 33, 41, 34, 35, 31, 33, 23, 30, 30, 36, 27, 32, 29, 34, 35, 41, 33, 31, 33, 29, 32, 32, 31, 31, 31, 34])\t[('XA', 'GL000217.1,-110754,76M,1;'), ('BD', 'NNNNNNNNNNNNNNNNNNNNNNNNNNNNNNNNNNNNNNNNNNNNNNNNNNNNNNNNNNNNNNNNNNNNNNNNNNNN'), ('MD', '76'), ('RG', '1'), ('BI', 'NNNNNNNNNNNNNNNNNNNNNNNNNNNNNNNNNNNNNNNNNNNNNNNNNNNNNNNNNNNNNNNNNNNNNNNNNNNN'), ('NM', 0), ('MQ', 27), ('AS', 76), ('XS', 71)]\n"
          ],
          "name": "stdout"
        }
      ]
    },
    {
      "cell_type": "markdown",
      "metadata": {
        "id": "Trg_QWRMP0qe"
      },
      "source": [
        "Answers"
      ]
    },
    {
      "cell_type": "code",
      "metadata": {
        "colab": {
          "base_uri": "https://localhost:8080/"
        },
        "id": "qtPBwXf-P729",
        "outputId": "2c3d47bb-946f-4218-a4f6-a7c9311dc71f"
      },
      "source": [
        "#How many unmapped reads are in the file?\n",
        "\n",
        "alnfile = pysam.AlignmentFile('/content/sample_data/merged-tumor.bam', 'rb')\n",
        "number_of_unmapped_reads = 0\n",
        "for i in alnfile:\n",
        "    if i.is_unmapped:\n",
        "        number_of_unmapped_reads += 1\n",
        "\n",
        "print(\"Number of unmapped reads in file: \", number_of_unmapped_reads)"
      ],
      "execution_count": 9,
      "outputs": [
        {
          "output_type": "stream",
          "text": [
            "Number of unmapped reads in file:  17765\n"
          ],
          "name": "stdout"
        }
      ]
    },
    {
      "cell_type": "code",
      "metadata": {
        "colab": {
          "base_uri": "https://localhost:8080/"
        },
        "id": "HIF-hqQMQPW8",
        "outputId": "a069eba2-df38-4a36-fea4-734081672ac6"
      },
      "source": [
        "#Total number of reads\n",
        "\n",
        "alnfile = pysam.AlignmentFile('/content/sample_data/merged-tumor.bam', 'rb')\n",
        "total_number_of_reads = alnfile.count(until_eof=True)\n",
        "\n",
        "print(\"Total number of reads: \", total_number_of_reads)"
      ],
      "execution_count": 14,
      "outputs": [
        {
          "output_type": "stream",
          "text": [
            "Total number of reads:  2921629\n"
          ],
          "name": "stdout"
        }
      ]
    },
    {
      "cell_type": "code",
      "metadata": {
        "colab": {
          "base_uri": "https://localhost:8080/"
        },
        "id": "TgeCja9DVTw-",
        "outputId": "d78a8ccb-070d-4ebb-caff-1c8aeb8f04b2"
      },
      "source": [
        "#Number of reads with mapping quality 0\n",
        "\n",
        "alnfile = pysam.AlignmentFile('/content/sample_data/merged-tumor.bam', 'rb')\n",
        "number_of_reads_mq0 = 0\n",
        "for i in alnfile:\n",
        "    if i.mapping_quality == 0:\n",
        "        number_of_reads_mq0 += 1\n",
        "\n",
        "print(\"Number of reads with mapping quality 0: \", number_of_reads_mq0)"
      ],
      "execution_count": 11,
      "outputs": [
        {
          "output_type": "stream",
          "text": [
            "Number of reads with mapping quality 0:  126628\n"
          ],
          "name": "stdout"
        }
      ]
    },
    {
      "cell_type": "code",
      "metadata": {
        "colab": {
          "base_uri": "https://localhost:8080/"
        },
        "id": "noecBNtHVd00",
        "outputId": "987b8a03-ebfa-4deb-c3f4-a3b0edaef8ba"
      },
      "source": [
        "#Average mapping quality for all the reads\n",
        "\n",
        "alnfile = pysam.AlignmentFile('/content/sample_data/merged-tumor.bam', 'rb')\n",
        "sum_mapping_quality = 0\n",
        "average_mapping_quality = 0\n",
        "for i in alnfile:\n",
        "    sum_mapping_quality += i.mapping_quality\n",
        "average_mapping_quality = sum_mapping_quality / total_number_of_reads\n",
        "\n",
        "print(\"Average mapping quality for all reads: \", average_mapping_quality)"
      ],
      "execution_count": 12,
      "outputs": [
        {
          "output_type": "stream",
          "text": [
            "Average mapping quality for all reads:  55.91379158681681\n"
          ],
          "name": "stdout"
        }
      ]
    },
    {
      "cell_type": "code",
      "metadata": {
        "colab": {
          "base_uri": "https://localhost:8080/"
        },
        "id": "XpATg9d5VnCm",
        "outputId": "50bda0bb-e8f7-42a7-ca49-60292d24ae5d"
      },
      "source": [
        "#Average mapping quality if reads with 0 mapp quality are filtered out\n",
        "\n",
        "alnfile = pysam.AlignmentFile('/content/sample_data/merged-tumor.bam', 'rb')\n",
        "number_of_reads_mqnot0 = 0\n",
        "average_mapping_quality_without_0 = 0\n",
        "for i in alnfile:\n",
        "    if i.mapping_quality != 0:\n",
        "        number_of_reads_mqnot0 += 1\n",
        "average_mapping_quality_without_0 = sum_mapping_quality / number_of_reads_mqnot0\n",
        "\n",
        "print(\"Average mapping quality without 0 mapp: \", average_mapping_quality_without_0)"
      ],
      "execution_count": 13,
      "outputs": [
        {
          "output_type": "stream",
          "text": [
            "Average mapping quality without 0 mapp:  58.446975510921106\n"
          ],
          "name": "stdout"
        }
      ]
    }
  ]
}